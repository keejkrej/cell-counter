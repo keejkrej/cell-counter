{
 "cells": [
  {
   "cell_type": "code",
   "execution_count": 8,
   "metadata": {},
   "outputs": [],
   "source": [
    "from skimage.io import imread\n",
    "from glob import glob"
   ]
  },
  {
   "cell_type": "code",
   "execution_count": 9,
   "metadata": {},
   "outputs": [
    {
     "name": "stdout",
     "output_type": "stream",
     "text": [
      "88\n"
     ]
    }
   ],
   "source": [
    "data_path = \"/home/jack/workspace/data/frame_000\"\n",
    "imgs = [imread(img_path) for img_path in glob(os.path.join(data_path, \"*.png\"))]\n",
    "print(len(imgs))"
   ]
  },
  {
   "cell_type": "code",
   "execution_count": 11,
   "metadata": {},
   "outputs": [
    {
     "data": {
      "text/plain": [
       "[(12, 3),\n",
       " (19, 3),\n",
       " (29, 3),\n",
       " (32, 3),\n",
       " (52, 3),\n",
       " (59, 3),\n",
       " (71, 3),\n",
       " (73, 3),\n",
       " (79, 3),\n",
       " (84, 3)]"
      ]
     },
     "execution_count": 11,
     "metadata": {},
     "output_type": "execute_result"
    }
   ],
   "source": [
    "from cell_counter.core.count import count_nuclei_cellpose\n",
    "n_nuclei_list = count_nuclei_cellpose(imgs)\n",
    "[(idx, n_nuclei) for idx, n_nuclei in enumerate(n_nuclei_list) if n_nuclei == 3]"
   ]
  }
 ],
 "metadata": {
  "language_info": {
   "name": "python"
  }
 },
 "nbformat": 4,
 "nbformat_minor": 2
}
