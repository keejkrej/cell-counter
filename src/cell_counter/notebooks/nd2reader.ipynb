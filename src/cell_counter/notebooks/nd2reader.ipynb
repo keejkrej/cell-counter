{
 "cells": [
  {
   "cell_type": "code",
   "execution_count": null,
   "metadata": {},
   "outputs": [],
   "source": [
    "from nd2reader import ND2Reader\n",
    "\n",
    "nd2_reader = ND2Reader('data/patterns.nd2')\n",
    "\n",
    "nd2_reader.metadata\n",
    "\n",
    "\n"
   ]
  }
 ],
 "metadata": {
  "kernelspec": {
   "display_name": "base",
   "language": "python",
   "name": "python3"
  },
  "language_info": {
   "name": "python",
   "version": "3.12.9"
  }
 },
 "nbformat": 4,
 "nbformat_minor": 2
}
